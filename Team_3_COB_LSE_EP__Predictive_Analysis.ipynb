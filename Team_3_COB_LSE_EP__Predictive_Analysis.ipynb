{
 "cells": [
  {
   "cell_type": "code",
   "execution_count": null,
   "id": "77a9d344",
   "metadata": {},
   "outputs": [],
   "source": [
    "# Predictive analysis using Linear Regression"
   ]
  },
  {
   "cell_type": "code",
   "execution_count": 1,
   "id": "4a24b0b3",
   "metadata": {},
   "outputs": [],
   "source": [
    "# Import library for statistical analysis.\n",
    "import statsmodels.api as sm \n",
    "# Import inbuilt data sets in sklearn library.\n",
    "from sklearn import datasets \n",
    "# Import for numerical calculations.\n",
    "import numpy as np  \n",
    "# Import sklearn's linear model algorithm.\n",
    "from sklearn import linear_model \n",
    "# Import Pandas library.\n",
    "import pandas as pd \n",
    "# Import for plot generation.\n",
    "import matplotlib.pyplot as plt \n",
    "\n",
    "# Import metrics for measuring linear model fit:\n",
    "import sklearn\n",
    "from sklearn.model_selection import train_test_split\n",
    "from sklearn import metrics\n",
    "from sklearn.linear_model import LinearRegression"
   ]
  },
  {
   "cell_type": "markdown",
   "id": "561c034c",
   "metadata": {},
   "source": [
    "Create a DataFrame"
   ]
  },
  {
   "cell_type": "code",
   "execution_count": 10,
   "id": "f9838e38",
   "metadata": {},
   "outputs": [
    {
     "data": {
      "text/html": [
       "<div>\n",
       "<style scoped>\n",
       "    .dataframe tbody tr th:only-of-type {\n",
       "        vertical-align: middle;\n",
       "    }\n",
       "\n",
       "    .dataframe tbody tr th {\n",
       "        vertical-align: top;\n",
       "    }\n",
       "\n",
       "    .dataframe thead th {\n",
       "        text-align: right;\n",
       "    }\n",
       "</style>\n",
       "<table border=\"1\" class=\"dataframe\">\n",
       "  <thead>\n",
       "    <tr style=\"text-align: right;\">\n",
       "      <th></th>\n",
       "      <th>Borough</th>\n",
       "      <th>Cycle 5+ times a week</th>\n",
       "      <th>Total Cycle track as % of Road length</th>\n",
       "      <th>% of residents aged 12-65</th>\n",
       "    </tr>\n",
       "  </thead>\n",
       "  <tbody>\n",
       "    <tr>\n",
       "      <th>0</th>\n",
       "      <td>Waltham Forest</td>\n",
       "      <td>0.0623</td>\n",
       "      <td>0.0907</td>\n",
       "      <td>0.7180</td>\n",
       "    </tr>\n",
       "    <tr>\n",
       "      <th>1</th>\n",
       "      <td>Newham</td>\n",
       "      <td>0.0327</td>\n",
       "      <td>0.0816</td>\n",
       "      <td>0.7485</td>\n",
       "    </tr>\n",
       "    <tr>\n",
       "      <th>2</th>\n",
       "      <td>Ealing</td>\n",
       "      <td>0.0309</td>\n",
       "      <td>0.0428</td>\n",
       "      <td>0.6988</td>\n",
       "    </tr>\n",
       "    <tr>\n",
       "      <th>3</th>\n",
       "      <td>Hounslow</td>\n",
       "      <td>0.0303</td>\n",
       "      <td>0.0867</td>\n",
       "      <td>0.7037</td>\n",
       "    </tr>\n",
       "    <tr>\n",
       "      <th>4</th>\n",
       "      <td>Hillingdon</td>\n",
       "      <td>0.0261</td>\n",
       "      <td>0.0623</td>\n",
       "      <td>0.6944</td>\n",
       "    </tr>\n",
       "  </tbody>\n",
       "</table>\n",
       "</div>"
      ],
      "text/plain": [
       "          Borough  Cycle 5+ times a week  \\\n",
       "0  Waltham Forest                 0.0623   \n",
       "1          Newham                 0.0327   \n",
       "2          Ealing                 0.0309   \n",
       "3        Hounslow                 0.0303   \n",
       "4      Hillingdon                 0.0261   \n",
       "\n",
       "   Total Cycle track as % of Road length  % of residents aged 12-65  \n",
       "0                                 0.0907                     0.7180  \n",
       "1                                 0.0816                     0.7485  \n",
       "2                                 0.0428                     0.6988  \n",
       "3                                 0.0867                     0.7037  \n",
       "4                                 0.0623                     0.6944  "
      ]
     },
     "execution_count": 10,
     "metadata": {},
     "output_type": "execute_result"
    }
   ],
   "source": [
    "# Read the 'salary_data.csv' file.\n",
    "data = pd.read_csv('cycling_lane_reg.csv') \n",
    "\n",
    "# Print the table.\n",
    "data.head() "
   ]
  },
  {
   "cell_type": "code",
   "execution_count": null,
   "id": "50c869d7",
   "metadata": {},
   "outputs": [],
   "source": [
    "# checking data types"
   ]
  },
  {
   "cell_type": "code",
   "execution_count": 11,
   "id": "4fc16a52",
   "metadata": {},
   "outputs": [
    {
     "data": {
      "text/plain": [
       "Borough                                   object\n",
       "Cycle 5+ times a week                    float64\n",
       "Total Cycle track as % of Road length    float64\n",
       "% of residents aged 12-65                float64\n",
       "dtype: object"
      ]
     },
     "execution_count": 11,
     "metadata": {},
     "output_type": "execute_result"
    }
   ],
   "source": [
    "data.dtypes"
   ]
  },
  {
   "cell_type": "code",
   "execution_count": 3,
   "id": "90d6bb55",
   "metadata": {},
   "outputs": [
    {
     "name": "stdout",
     "output_type": "stream",
     "text": [
      "<class 'pandas.core.frame.DataFrame'>\n",
      "RangeIndex: 15 entries, 0 to 14\n",
      "Data columns (total 4 columns):\n",
      " #   Column                                 Non-Null Count  Dtype \n",
      "---  ------                                 --------------  ----- \n",
      " 0   Borough                                15 non-null     object\n",
      " 1   Cycle 5+ times a week                  15 non-null     object\n",
      " 2   Total Cycle track as % of Road length  15 non-null     object\n",
      " 3   % of residents aged 12-65              15 non-null     object\n",
      "dtypes: object(4)\n",
      "memory usage: 608.0+ bytes\n"
     ]
    }
   ],
   "source": [
    "# More info about the DataFrame.\n",
    "data.info()"
   ]
  },
  {
   "cell_type": "markdown",
   "id": "94a1525e",
   "metadata": {},
   "source": [
    "Run the regression"
   ]
  },
  {
   "cell_type": "code",
   "execution_count": 12,
   "id": "2583e558",
   "metadata": {},
   "outputs": [],
   "source": [
    "# Define the dependent variable.\n",
    "y = data['Cycle 5+ times a week'].values.reshape(-1, 1) \n",
    "\n",
    "# Define the independent variable.\n",
    "x = data['Total Cycle track as % of Road length'].values.reshape(-1, 1) "
   ]
  },
  {
   "cell_type": "code",
   "execution_count": 14,
   "id": "17173306",
   "metadata": {},
   "outputs": [],
   "source": [
    "#fits the model using the fit() method"
   ]
  },
  {
   "cell_type": "code",
   "execution_count": 16,
   "id": "64daf669",
   "metadata": {},
   "outputs": [
    {
     "data": {
      "text/plain": [
       "array([[0.02708706],\n",
       "       [0.01696554],\n",
       "       [0.01635004],\n",
       "       [0.01614487],\n",
       "       [0.01470871],\n",
       "       [0.01313577],\n",
       "       [0.01228091],\n",
       "       [0.011768  ],\n",
       "       [0.01139186],\n",
       "       [0.01098153],\n",
       "       [0.01043442],\n",
       "       [0.00964795],\n",
       "       [0.00906664],\n",
       "       [0.00886148],\n",
       "       [0.0069124 ]])"
      ]
     },
     "execution_count": 16,
     "metadata": {},
     "output_type": "execute_result"
    }
   ],
   "source": [
    "# Print the target values.\n",
    "lm.predict(y)"
   ]
  },
  {
   "cell_type": "code",
   "execution_count": 17,
   "id": "ef1acf76",
   "metadata": {},
   "outputs": [
    {
     "data": {
      "text/plain": [
       "array([0.00578399])"
      ]
     },
     "execution_count": 17,
     "metadata": {},
     "output_type": "execute_result"
    }
   ],
   "source": [
    "# Call the intercept.\n",
    "lm.intercept_"
   ]
  },
  {
   "cell_type": "code",
   "execution_count": 18,
   "id": "a8839672",
   "metadata": {},
   "outputs": [
    {
     "data": {
      "text/plain": [
       "array([[0.34194338]])"
      ]
     },
     "execution_count": 18,
     "metadata": {},
     "output_type": "execute_result"
    }
   ],
   "source": [
    "# Estimated coefficients\n",
    "lm.coef_"
   ]
  },
  {
   "cell_type": "code",
   "execution_count": 20,
   "id": "60407b2a",
   "metadata": {},
   "outputs": [
    {
     "data": {
      "image/png": "[encoded data removed]",
      "text/plain": [
       "<Figure size 640x480 with 1 Axes>"
      ]
     },
     "metadata": {},
     "output_type": "display_data"
    }
   ],
   "source": [
    "# [1] Create a scatterplot (with red data points). \n",
    "plt.scatter(x, y, color = \"red\")  \n",
    "# [2] Create a regression line in green.\n",
    "plt.plot(x, lm.predict(x), color = \"green\") \n",
    "# [3] Set the title for the graph.\n",
    "plt.title(\"Cycle_Lane vs Cycling_per_week\") \n",
    "# [4] Set the label for the x-axis.\n",
    "plt.xlabel(\"Total Cycle track as % of Road length\") \n",
    "# [5] Set the label for the y-axis.\n",
    "plt.ylabel(\"Cycle 5+ times a week\")\n",
    "# [6] Print the graph. \n",
    "plt.show()"
   ]
  },
  {
   "cell_type": "code",
   "execution_count": 23,
   "id": "bfc8c1da",
   "metadata": {},
   "outputs": [
    {
     "name": "stdout",
     "output_type": "stream",
     "text": [
      "[[0.108367]]\n"
     ]
    }
   ],
   "source": [
    "# Use the predict() method with an array to call the \n",
    "\n",
    "predicted_value = lm.predict([[0.3]])\n",
    "print(predicted_value)\n",
    "\n"
   ]
  },
  {
   "cell_type": "code",
   "execution_count": null,
   "id": "749efd7d",
   "metadata": {},
   "outputs": [],
   "source": [
    "# We can conclude that by increasing cycle lanes by 30% we can increase cycling per week to 10%. "
   ]
  },
  {
   "cell_type": "code",
   "execution_count": null,
   "id": "014b5dea",
   "metadata": {},
   "outputs": [],
   "source": []
  },
  {
   "cell_type": "code",
   "execution_count": null,
   "id": "4eff6643",
   "metadata": {},
   "outputs": [],
   "source": []
  }
 ],
 "metadata": {
  "kernelspec": {
   "display_name": "Python 3",
   "language": "python",
   "name": "python3"
  },
  "language_info": {
   "codemirror_mode": {
    "name": "ipython",
    "version": 3
   },
   "file_extension": ".py",
   "mimetype": "text/x-python",
   "name": "python",
   "nbconvert_exporter": "python",
   "pygments_lexer": "ipython3",
   "version": "3.8.8"
  }
 },
 "nbformat": 4,
 "nbformat_minor": 5
}
